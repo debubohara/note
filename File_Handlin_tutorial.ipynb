{
 "cells": [
  {
   "cell_type": "markdown",
   "metadata": {},
   "source": [
    "## File Handling in Python"
   ]
  },
  {
   "cell_type": "markdown",
   "metadata": {},
   "source": [
    "File handling is essential for managing data stored in files. Python makes it easy to work with files using built-in functions and modules."
   ]
  },
  {
   "cell_type": "markdown",
   "metadata": {},
   "source": [
    "## 1. Basics of File Handling"
   ]
  },
  {
   "cell_type": "markdown",
   "metadata": {},
   "source": [
    "### Opening a File\n",
    "Use the `open()` function to open a file.\n",
    "```python\n",
    "file = open(\"example.txt\", \"r\")  # Open a file in read mode\n",
    "```\n",
    "Modes:\n",
    "- `\"r\"`: Read (default)\n",
    "- `\"w\"`: Write (creates a new file or overwrites existing content)\n",
    "- `\"a\"`: Append (adds data to the end of the file)\n",
    "- `\"r+\"`: Read and write"
   ]
  },
  {
   "cell_type": "markdown",
   "metadata": {},
   "source": [
    "### Closing a File\n",
    "Always close the file to free up system resources.\n",
    "```python\n",
    "file.close()\n",
    "```"
   ]
  },
  {
   "cell_type": "markdown",
   "metadata": {},
   "source": [
    "## 2. Reading and Writing Files"
   ]
  },
  {
   "cell_type": "markdown",
   "metadata": {},
   "source": [
    "### Reading a File\n",
    "**Reading Entire Content**:\n",
    "```python\n",
    "file = open(\"example.txt\", \"r\")\n",
    "content = file.read()\n",
    "print(content)\n",
    "file.close()\n",
    "```\n",
    "**Reading Line by Line**:\n",
    "```python\n",
    "file = open(\"example.txt\", \"r\")\n",
    "for line in file:\n",
    "    print(line.strip())  # Removes extra spaces/newlines\n",
    "file.close()\n",
    "```"
   ]
  },
  {
   "cell_type": "code",
   "execution_count": 6,
   "metadata": {},
   "outputs": [
    {
     "name": "stdout",
     "output_type": "stream",
     "text": [
      "Hello,My name is Debu Bohara!\n",
      "Adding more text!\n",
      "Hello,My name is Debu Bohara!\n",
      "Adding more text!\n"
     ]
    }
   ],
   "source": [
    "# Reading a File\n",
    "\n",
    "\n",
    "file = open(\"example.txt\", \"r\")\n",
    "content = file.read()\n",
    "print(content)\n",
    "file.close()\n",
    "\n",
    "file = open(\"example.txt\", \"r\")\n",
    "for line in file:\n",
    "    print(line.strip())  # Removes extra spaces/newlines\n",
    "file.close()\n"
   ]
  },
  {
   "cell_type": "code",
   "execution_count": 5,
   "metadata": {},
   "outputs": [],
   "source": [
    "### Writing to a File\n",
    "\n",
    "file = open(\"example.txt\", \"w\")\n",
    "file.write(\"Hello,My name is Debu Bohara!\")\n",
    "file.close()\n",
    "\n",
    "file = open(\"example.txt\", \"a\")\n",
    "file.write(\"\\nAdding more text!\")\n",
    "file.close()\n"
   ]
  },
  {
   "cell_type": "markdown",
   "metadata": {},
   "source": [
    "## 3. Using Context Managers (`with` Statement)\n",
    "\n",
    "The `with` statement is a better way to handle files because it automatically closes the file after the block is executed.\n",
    "\n",
    "\n"
   ]
  },
  {
   "cell_type": "code",
   "execution_count": 7,
   "metadata": {},
   "outputs": [
    {
     "name": "stdout",
     "output_type": "stream",
     "text": [
      "Hello,My name is Debu Bohara!\n",
      "Adding more text!\n"
     ]
    }
   ],
   "source": [
    "with open(\"example.txt\", \"r\") as file:\n",
    "    content = file.read()\n",
    "    print(content)\n",
    "# No need to call file.close()"
   ]
  },
  {
   "cell_type": "markdown",
   "metadata": {},
   "source": [
    "## 4. Working with JSON and CSV Files"
   ]
  },
  {
   "cell_type": "markdown",
   "metadata": {},
   "source": [
    "## JSON Files\n",
    "Used to store data in a structured format (key-value pairs).\n",
    "\n"
   ]
  },
  {
   "cell_type": "code",
   "execution_count": 9,
   "metadata": {},
   "outputs": [],
   "source": [
    "# Writing JSON\n",
    "\n",
    "import json\n",
    "\n",
    "data = {\"name\": \"Debu\", \"age\": 21}\n",
    "with open(\"data.json\", \"w\") as file:\n",
    "    json.dump(data, file)  # Save dictionary to JSON\n",
    "\n",
    "\n"
   ]
  },
  {
   "cell_type": "code",
   "execution_count": 10,
   "metadata": {},
   "outputs": [
    {
     "name": "stdout",
     "output_type": "stream",
     "text": [
      "{'name': 'Debu', 'age': 21}\n"
     ]
    }
   ],
   "source": [
    "# Reading JSON\n",
    "with open(\"data.json\", \"r\") as file:\n",
    "    data = json.load(file)  # Load JSON as a dictionary\n",
    "    print(data)\n"
   ]
  },
  {
   "cell_type": "markdown",
   "metadata": {},
   "source": [
    "### CSV Files\n",
    "Used to handle tabular data (rows and columns).\n",
    "\n",
    "**Writing CSV**:\n",
    "```python\n",
    "import csv\n",
    "\n",
    "data = [[\"Name\", \"Age\"], [\"Alice\", 25], [\"Bob\", 30]]\n",
    "with open(\"data.csv\", \"w\", newline=\"\") as file:\n",
    "    writer = csv.writer(file)\n",
    "    writer.writerows(data)\n",
    "```\n",
    "\n",
    "**Reading CSV**:\n",
    "```python\n",
    "with open(\"data.csv\", \"r\") as file:\n",
    "    reader = csv.reader(file)\n",
    "    for row in reader:\n",
    "        print(row)\n",
    "```"
   ]
  }
 ],
 "metadata": {
  "kernelspec": {
   "display_name": "Python 3",
   "language": "python",
   "name": "python3"
  },
  "language_info": {
   "codemirror_mode": {
    "name": "ipython",
    "version": 3
   },
   "file_extension": ".py",
   "mimetype": "text/x-python",
   "name": "python",
   "nbconvert_exporter": "python",
   "pygments_lexer": "ipython3",
   "version": "3.13.1"
  }
 },
 "nbformat": 4,
 "nbformat_minor": 2
}
