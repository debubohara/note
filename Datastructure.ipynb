{
 "cells": [
  {
   "cell_type": "markdown",
   "metadata": {},
   "source": [
    "# Data Structures: List, Tuples, Sets,and Dictionaries\n",
    "\n",
    "# 1. List"
   ]
  },
  {
   "cell_type": "code",
   "execution_count": 10,
   "metadata": {},
   "outputs": [
    {
     "name": "stdout",
     "output_type": "stream",
     "text": [
      "[1, 2, 3, 4, 5]\n",
      "2\n",
      "[1, 2, 3, 4, 5, 7]\n",
      "[1, 3, 4, 5, 7]\n",
      "[1, 3, 4, 5]\n",
      "[1, 3, 4, 5]\n",
      "[5, 4, 3, 1]\n",
      "1\n",
      "[5, 4, 3, 1]\n",
      "[1, 2, 3, 4, 5, 'name']\n"
     ]
    }
   ],
   "source": [
    "list_example = [1, 2, 3, 4, 5]\n",
    "print(list_example)\n",
    "print(list_example.index(3))  \n",
    "\n",
    "list_example.append(7)  # Adds an element at the end\n",
    "print(list_example)\n",
    "list_example.remove(2)  # Removes the first occurrence of an element\n",
    "print(list_example)\n",
    "list_example.pop()      # Removes the last element and returns it\n",
    "print(list_example)\n",
    "list_example.sort()     # Sorts the list in ascending order\n",
    "print(list_example)\n",
    "list_example.reverse()  # Reverses the list\n",
    "print(list_example)\n",
    "index=list_example.index(4)\n",
    "print(index) # Finds the index of the element (returns the first index)\n",
    "print(list_example)\n",
    "list_example = [1, 2, 3, 4, 5, \"name\"]\n",
    "print(list_example)\n"
   ]
  },
  {
   "cell_type": "markdown",
   "metadata": {},
   "source": [
    "# uses cases for list:\n",
    "* Storing collections of items such as numbers, strings, or other objects.\n",
    "* Modifying collections as they are mutable.\n",
    "* Iterating over data using loops.\n",
    "\n"
   ]
  },
  {
   "cell_type": "code",
   "execution_count": 11,
   "metadata": {},
   "outputs": [
    {
     "name": "stdout",
     "output_type": "stream",
     "text": [
      "Indexing Example:\n",
      "First element: 10\n",
      "Last element: 40\n",
      "\n",
      "Slicing Example:\n",
      "Elements from index 1 to 3: [20, 30, 40]\n",
      "Elements from the beginning to index 2: [10, 20, 30]\n",
      "Elements from index 2 to the end: [30, 40, 50]\n",
      "\n",
      "Length Example:\n",
      "Length of the list: 5\n"
     ]
    }
   ],
   "source": [
    "# Operations on Lists:\n",
    "\n",
    "# 1. Indexing: Accessing individual elements of a list by their position (index)\n",
    "list_example = [10,20,30,40,50]\n",
    "print(\"Indexing Example:\")\n",
    "print(\"First element:\", list_example[0])  # Output: 50\n",
    "print(\"Last element:\", list_example[-2])  # Output: 50\n",
    "\n",
    "# 2. Slicing: Extracting a portion of the list by specifying a start and end index\n",
    "print(\"\\nSlicing Example:\")\n",
    "print(\"Elements from index 1 to 3:\", list_example[1:4])  # Output: [20, 30, 40]\n",
    "print(\"Elements from the beginning to index 2:\", list_example[:3])  # Output: [10, 20, 30]\n",
    "print(\"Elements from index 2 to the end:\", list_example[2:])  # Output: [30, 40, 50]\n",
    "\n",
    "# 3. Length: Getting the number of elements in the list using the len() function\n",
    "print(\"\\nLength Example:\")\n",
    "print(\"Length of the list:\", len(list_example))  # Output: 5\n"
   ]
  },
  {
   "cell_type": "markdown",
   "metadata": {},
   "source": [
    "# 2. Tuples\n",
    "\n",
    "An immutable, ordered collection of items, sim,ilar to a list but cannot be modified after creation.\n",
    "\n",
    "  # Use cases for tuples;\n",
    "* Storing fixed collections of items.\n",
    "* Can be used as keys in dictionaries due to theirn immutability\n"
   ]
  },
  {
   "cell_type": "code",
   "execution_count": 12,
   "metadata": {},
   "outputs": [
    {
     "data": {
      "text/plain": [
       "3"
      ]
     },
     "execution_count": 12,
     "metadata": {},
     "output_type": "execute_result"
    }
   ],
   "source": [
    "# Common operations and methods:\n",
    "tuple_example = (1, 2, 3, 4, 5)\n",
    "# tuple_example.append(6)  # This would raise an error as tuples are immutable\n",
    "tuple_example.index(4)  # Finds the index of the element"
   ]
  },
  {
   "cell_type": "code",
   "execution_count": 13,
   "metadata": {},
   "outputs": [
    {
     "name": "stdout",
     "output_type": "stream",
     "text": [
      "Indexing Example:\n",
      "First element: 10\n",
      "Last element: 50\n",
      "\n",
      "Slicing Example:\n",
      "Elements from index 1 to 3: (20, 30, 40)\n",
      "Elements from the beginning to index 2: (10, 20, 30)\n",
      "Elements from index 2 to the end: (30, 40, 50)\n",
      "\n",
      "Length Example:\n",
      "Length of the tuple: 5\n"
     ]
    }
   ],
   "source": [
    "# Operations on Tuples:\n",
    "\n",
    "# 1. Indexing: Accessing individual elements of a tuple by their position (index)\n",
    "tuple_example = (10, 20, 30, 40, 50)\n",
    "print(\"Indexing Example:\")\n",
    "print(\"First element:\", tuple_example[0])  # Output: 10\n",
    "print(\"Last element:\", tuple_example[-1])  # Output: 50\n",
    "\n",
    "# 2. Slicing: Extracting a portion of the tuple by specifying a start and end index\n",
    "print(\"\\nSlicing Example:\")\n",
    "print(\"Elements from index 1 to 3:\", tuple_example[1:4])  # Output: (20, 30, 40)\n",
    "print(\"Elements from the beginning to index 2:\", tuple_example[:3])  # Output: (10, 20, 30)\n",
    "print(\"Elements from index 2 to the end:\", tuple_example[2:])  # Output: (30, 40, 50)\n",
    "\n",
    "# 3. Length: Getting the number of elements in the tuple using the len() function\n",
    "print(\"\\nLength Example:\")\n",
    "print(\"Length of the tuple:\", len(tuple_example))  # Output: 5\n"
   ]
  },
  {
   "cell_type": "markdown",
   "metadata": {},
   "source": [
    "# 3. Sets\n",
    "An unordered collection of unique elements. Duplicate values are not allowed.\n",
    "\n",
    "# Use cases for sets:\n",
    " - Removing duplicates from a collection.\n",
    "- Performing mathematical set operations like union, intersection, and difference.\n"
   ]
  },
  {
   "cell_type": "code",
   "execution_count": 14,
   "metadata": {},
   "outputs": [
    {
     "name": "stdout",
     "output_type": "stream",
     "text": [
      "{1, 2, 3, 4, 5}\n",
      "{1, 2, 3, 4, 5, 6}\n",
      "{1, 2, 4, 5, 6}\n",
      "{1, 2, 4, 5, 6}\n",
      "{4, 5, 6}\n",
      "{1, 2, 4, 5, 6, 7}\n"
     ]
    }
   ],
   "source": [
    "set_example={1,2,3,4,5}\n",
    "print(set_example)\n",
    "set_example.add(6)\n",
    "print(set_example)\n",
    "set_example.remove(3)\n",
    "print(set_example)\n",
    "set_example.discard(7)\n",
    "print(set_example)\n",
    "intersection=set_example.intersection({4,5,6})\n",
    "print(intersection)\n",
    "union=set_example.union({6,7})\n",
    "print(union)"
   ]
  },
  {
   "cell_type": "code",
   "execution_count": 15,
   "metadata": {},
   "outputs": [
    {
     "name": "stdout",
     "output_type": "stream",
     "text": [
      "\n",
      "Membership Test Example:\n",
      "Is 30 in set? True\n",
      "Is 60 in set? False\n",
      "\n",
      "Length Example:\n",
      "Length of the set: 5\n"
     ]
    }
   ],
   "source": [
    "# Operations on Sets:\n",
    "\n",
    "# 1. Membership Test: Checking if an element is present in the set\n",
    "set_example = {10, 20, 30, 40, 50}\n",
    "print(\"\\nMembership Test Example:\")\n",
    "print(\"Is 30 in set?\", 30 in set_example)  # Output: True\n",
    "print(\"Is 60 in set?\", 60 in set_example)  # Output: False\n",
    "\n",
    "# 2. Length: Getting the number of elements in the set using len()\n",
    "print(\"\\nLength Example:\")\n",
    "print(\"Length of the set:\", len(set_example))  # Output: 5\n",
    "\n",
    "\n"
   ]
  },
  {
   "cell_type": "markdown",
   "metadata": {},
   "source": [
    "# 4. Dictionaries\n",
    "A dictionary is an unordered collection of key-value pairs. Keys are unique, and values can be of any data type.\n",
    "# Use cases for dictionaries:\n",
    "- Storing key-value pairs such as user data (name, age, etc.).\n",
    "- Performing lookups based on unique keys.\n"
   ]
  },
  {
   "cell_type": "code",
   "execution_count": 16,
   "metadata": {},
   "outputs": [
    {
     "name": "stdout",
     "output_type": "stream",
     "text": [
      "{'name': 'Debu', 'age': 21}\n",
      "{'name': 'Debu', 'age': 21, 'city': 'Kathmandu'}\n",
      "21\n",
      "21\n",
      "{'name': 'Debu', 'city': 'Kathmandu'}\n",
      "dict_keys(['name', 'city'])\n",
      "dict_values(['Debu', 'Kathmandu'])\n"
     ]
    }
   ],
   "source": [
    "dict_example = {\"name\": \"Debu\", \"age\": 21}\n",
    "print(dict_example)\n",
    "\n",
    "dict_example[\"city\"] = \"Kathmandu\"  # Adds a new key-value pair\n",
    "print(dict_example)\n",
    "\n",
    "print(dict_example.get(\"age\"))      # Retrieves the value associated with a key\n",
    "print(dict_example.pop(\"age\") )           # Removes a key-value pair\n",
    "print(dict_example)\n",
    "print(dict_example.keys())             # Returns a view of all keys\n",
    "print(dict_example.values())              # Returns a view of all values\n"
   ]
  },
  {
   "cell_type": "code",
   "execution_count": 18,
   "metadata": {},
   "outputs": [
    {
     "name": "stdout",
     "output_type": "stream",
     "text": [
      "\n",
      "Indexing (Key Lookup) Example:\n",
      "Name: Debu\n",
      "City: Kathmandu\n",
      "\n",
      "Length Example:\n",
      "Length of the dictionary: 3\n",
      "\n",
      "Keys and Values Example:\n",
      "Keys: dict_keys(['name', 'age', 'city'])\n",
      "Values: dict_values(['Debu', 21, 'Kathmandu'])\n"
     ]
    }
   ],
   "source": [
    "# Operations on Dictionaries:\n",
    "\n",
    "# 1. Indexing (Key Lookup): Accessing values in the dictionary by their key\n",
    "dict_example = {\"name\": \"Debu\", \"age\": 21, \"city\": \"Kathmandu\"}\n",
    "print(\"\\nIndexing (Key Lookup) Example:\")\n",
    "print(\"Name:\", dict_example[\"name\"])  # Output: Alice\n",
    "print(\"City:\", dict_example[\"city\"])  # Output: New York\n",
    "\n",
    "# 2. Length: Getting the number of key-value pairs in the dictionary using len()\n",
    "print(\"\\nLength Example:\")\n",
    "print(\"Length of the dictionary:\", len(dict_example))  # Output: 3\n",
    "\n",
    "# 3. Keys and Values: Getting all keys and all values from the dictionary\n",
    "print(\"\\nKeys and Values Example:\")\n",
    "print(\"Keys:\", dict_example.keys())  # Output: dict_keys(['na    me', 'age', 'city'])\n",
    "print(\"Values:\", dict_example.values())  # Output: dict_values(['Alice', 25, 'New York'])\n"
   ]
  },
  {
   "cell_type": "markdown",
   "metadata": {},
   "source": [
    "# 5. Common Use Cases in Data Manipulation\n",
    " - Lists for ordered collections of items like datasets, sequences, etc.\n",
    " - Tuples for fixed data collections (e.g., coordinates, RGB values).\n",
    " - Sets for unique items, eliminating duplicates.\n",
    " - Dictionaries for mapping keys to values, such as counting occurrences.\n"
   ]
  }
 ],
 "metadata": {
  "kernelspec": {
   "display_name": "Python 3",
   "language": "python",
   "name": "python3"
  },
  "language_info": {
   "codemirror_mode": {
    "name": "ipython",
    "version": 3
   },
   "file_extension": ".py",
   "mimetype": "text/x-python",
   "name": "python",
   "nbconvert_exporter": "python",
   "pygments_lexer": "ipython3",
   "version": "3.13.1"
  }
 },
 "nbformat": 4,
 "nbformat_minor": 2
}
