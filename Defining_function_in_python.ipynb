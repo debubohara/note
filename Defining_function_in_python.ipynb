{
 "cells": [
  {
   "cell_type": "markdown",
   "metadata": {},
   "source": [
    "# Python Functions\n",
    "A function is a block of code that only rins when it called.\n",
    "\n",
    "we can pass data, known as parameters, into a function.\n",
    "\n",
    "A function can return data as result\n",
    "\n",
    "\n",
    "\n",
    "### Defining a Function in Python\n",
    "In Python, functions are defined using the `def` keyword, followed by the function name, parentheses, and a colon. The function body contains the code to execute and is indented.\n",
    "\n",
    "\n",
    "\n",
    "# Syntax of a Function in Python\n",
    "\n",
    "```python\n",
    "def function_name(parameters):\n",
    "    \n",
    "    # Code block\n",
    "    return value  # Optional return statement\n",
    "\n",
    "\n",
    "\n",
    "\n",
    "## Creating a Function\n",
    "\n",
    "In Python, a function is defined using the `def` keyword:\n",
    "\n"
   ]
  },
  {
   "cell_type": "code",
   "execution_count": 1,
   "metadata": {},
   "outputs": [
    {
     "name": "stdout",
     "output_type": "stream",
     "text": [
      "Hello from a function\n",
      "Hello from a function\n"
     ]
    }
   ],
   "source": [
    "# Example of defining and calling a function\n",
    "def my_function():  #creating function\n",
    "    print(\"Hello from a function\")\n",
    "\n",
    "my_function()\n",
    "my_function()\n",
    "\n",
    "\n"
   ]
  },
  {
   "cell_type": "code",
   "execution_count": 3,
   "metadata": {},
   "outputs": [
    {
     "name": "stdout",
     "output_type": "stream",
     "text": [
      "hello\n",
      "hello\n"
     ]
    },
    {
     "data": {
      "text/plain": [
       "<function __main__.function()>"
      ]
     },
     "execution_count": 3,
     "metadata": {},
     "output_type": "execute_result"
    }
   ],
   "source": [
    "def function():\n",
    "    print(\"hello\")\n",
    "function()\n",
    "function()\n",
    "function"
   ]
  },
  {
   "cell_type": "code",
   "execution_count": 4,
   "metadata": {},
   "outputs": [
    {
     "name": "stdout",
     "output_type": "stream",
     "text": [
      "hello\n",
      "hello\n",
      "hello\n",
      "hello\n",
      "hello\n"
     ]
    }
   ],
   "source": [
    "def function():\n",
    "    print(\"hello\")\n",
    "function()\n",
    "function()\n",
    "function()\n",
    "function()\n",
    "function()\n"
   ]
  },
  {
   "cell_type": "markdown",
   "metadata": {},
   "source": [
    "### Example 1: Basic Function\n",
    "Positional Arguments\n",
    "Definition: Arguments are passed in the order in which parameters are defined in the function.\n"
   ]
  },
  {
   "cell_type": "code",
   "execution_count": 5,
   "metadata": {},
   "outputs": [
    {
     "name": "stdout",
     "output_type": "stream",
     "text": [
      "Hello, Debu!\n"
     ]
    }
   ],
   "source": [
    "def greet(name): \n",
    "    mess=f\"Hello, {name}!\"\n",
    "    return mess\n",
    "\n",
    "# Calling the function\n",
    "message = greet(\"Debu\")\n",
    "print(message)  # Output: Hello, Debu!"
   ]
  },
  {
   "cell_type": "markdown",
   "metadata": {},
   "source": [
    "### Example 2: Function with Multiple Parameters"
   ]
  },
  {
   "cell_type": "code",
   "execution_count": 6,
   "metadata": {},
   "outputs": [
    {
     "name": "stdout",
     "output_type": "stream",
     "text": [
      "12\n",
      "17\n"
     ]
    }
   ],
   "source": [
    "def add_numbers(a, b):\n",
    "    c=a+b\n",
    "    return c\n",
    "\n",
    "# Calling the function\n",
    "result = add_numbers(5, 7)\n",
    "print(result)  # Output: 12\n",
    "\n",
    "res2= add_numbers(8,9)\n",
    "print(res2)"
   ]
  },
  {
   "cell_type": "markdown",
   "metadata": {},
   "source": [
    "### Example 3: Function with Default Arguments"
   ]
  },
  {
   "cell_type": "code",
   "execution_count": 8,
   "metadata": {},
   "outputs": [
    {
     "name": "stdout",
     "output_type": "stream",
     "text": [
      "Hello,user!\n",
      "Hello,Debu!\n",
      "Hello,Debu!\n"
     ]
    }
   ],
   "source": [
    "def greet(name=\"user\"):\n",
    "    c=f\"Hello,{name}!\"\n",
    "    return c\n",
    "print(greet())\n",
    "print(greet(\"Debu\"))\n",
    "\n",
    "message2=greet(\"Debu\")\n",
    "print(message2)"
   ]
  },
  {
   "cell_type": "markdown",
   "metadata": {},
   "source": [
    "### Example 4: Function Using Keyword Arguments"
   ]
  },
  {
   "cell_type": "code",
   "execution_count": 2,
   "metadata": {},
   "outputs": [
    {
     "name": "stdout",
     "output_type": "stream",
     "text": [
      "Debu is 21 years old and lives in Kathmandu.\n"
     ]
    }
   ],
   "source": [
    "def describe_person(name,age,city):\n",
    "    details=f\"{name} is {age} years old and lives in {city}.\"\n",
    "    return details\n",
    "print(describe_person(age=21, city=\"Kathmandu\", name=\"Debu\"))\n",
    "    "
   ]
  },
  {
   "cell_type": "markdown",
   "metadata": {},
   "source": [
    "### Example 5: Function Without a Return Statement"
   ]
  },
  {
   "cell_type": "code",
   "execution_count": 12,
   "metadata": {},
   "outputs": [
    {
     "name": "stdout",
     "output_type": "stream",
     "text": [
      "Hello,World!\n",
      "None\n"
     ]
    }
   ],
   "source": [
    "def display_message(message):\n",
    "\n",
    "    print(message)\n",
    "\n",
    "print(display_message(\"Hello,World!\"))"
   ]
  },
  {
   "cell_type": "markdown",
   "metadata": {},
   "source": [
    "### 1. Find Maximum of Two Numbers"
   ]
  },
  {
   "cell_type": "code",
   "execution_count": 13,
   "metadata": {},
   "outputs": [
    {
     "name": "stdout",
     "output_type": "stream",
     "text": [
      "20\n",
      "0\n",
      "5\n"
     ]
    }
   ],
   "source": [
    "# Function to find the maximum of two numbers\n",
    "def find_max(num1, num2):\n",
    "    return num1 if num1 > num2 else num2\n",
    "\n",
    "# Example function calls\n",
    "result1 = find_max(10, 20)\n",
    "print(result1)  # Output: 20\n",
    "\n",
    "result2 = find_max(-5, 0)\n",
    "print(result2)  # Output: 0\n",
    "\n",
    "result3 = find_max(5, 5)\n",
    "print(result3)  # Output: 5\n"
   ]
  },
  {
   "cell_type": "markdown",
   "metadata": {},
   "source": [
    "#### 2. Check Even or Odd"
   ]
  },
  {
   "cell_type": "code",
   "execution_count": 14,
   "metadata": {},
   "outputs": [
    {
     "name": "stdout",
     "output_type": "stream",
     "text": [
      "True\n",
      "False\n",
      "True\n"
     ]
    }
   ],
   "source": [
    "# Function to check if a number is even\n",
    "def is_even(number):\n",
    "\n",
    "    return number % 2 == 0\n",
    "\n",
    "# Example function calls\n",
    "result1 = is_even(4)\n",
    "print(result1)  # Output: True\n",
    "\n",
    "result2 = is_even(7)\n",
    "print(result2)  # Output: False\n",
    "\n",
    "result3 = is_even(0)\n",
    "print(result3) # Output: True\n",
    "\n"
   ]
  },
  {
   "cell_type": "markdown",
   "metadata": {},
   "source": [
    "### Calculate the area of rectangle"
   ]
  },
  {
   "cell_type": "code",
   "execution_count": 15,
   "metadata": {},
   "outputs": [
    {
     "name": "stdout",
     "output_type": "stream",
     "text": [
      "50\n",
      "21\n",
      "0\n"
     ]
    }
   ],
   "source": [
    "# Function to calculate the area of a rectangle\n",
    "def rectangle_area(length, width):\n",
    "    return length * width\n",
    "\n",
    "# Example function calls\n",
    "result1 = rectangle_area(5, 10)\n",
    "print(result1)  # Output: 50\n",
    "\n",
    "result2 = rectangle_area(7, 3)\n",
    "print(result2)  # Output: 21\n",
    "\n",
    "result3 = rectangle_area(0, 10)\n",
    "print(result3)  # Output: 0"
   ]
  },
  {
   "cell_type": "code",
   "execution_count": null,
   "metadata": {},
   "outputs": [],
   "source": []
  }
 ],
 "metadata": {
  "kernelspec": {
   "display_name": "Python 3",
   "language": "python",
   "name": "python3"
  },
  "language_info": {
   "codemirror_mode": {
    "name": "ipython",
    "version": 3
   },
   "file_extension": ".py",
   "mimetype": "text/x-python",
   "name": "python",
   "nbconvert_exporter": "python",
   "pygments_lexer": "ipython3",
   "version": "3.13.1"
  }
 },
 "nbformat": 4,
 "nbformat_minor": 2
}
