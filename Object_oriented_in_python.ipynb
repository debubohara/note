{
 "cells": [
  {
   "cell_type": "markdown",
   "metadata": {},
   "source": [
    "## **1. Classes and Objects**\n",
    "- **Class**: A blueprint for creating objects that defines attributes (variables) and methods (functions).\n",
    "- **Object**: An instance of a class.\n",
    "\n"
   ]
  },
  {
   "cell_type": "code",
   "execution_count": 2,
   "metadata": {},
   "outputs": [
    {
     "name": "stdout",
     "output_type": "stream",
     "text": [
      "10\n",
      "name:Debu\n",
      "age:21\n"
     ]
    }
   ],
   "source": [
    "class num:\n",
    "    x=20 #attribute optional\n",
    "    def display(self):\n",
    "      print(10)\n",
    "\n",
    "num1=num() \n",
    "num1.display()\n",
    "num1.x\n",
    "\n",
    "\n",
    "\n",
    "class student:\n",
    "   name=\"Debu\"\n",
    "   age=21\n",
    "   def display(self):\n",
    "      print(f\"name:{self.name}\")\n",
    "      print(f\"age:{self.age}\")\n",
    "\n",
    "std1=student()\n",
    "std1.display()"
   ]
  },
  {
   "cell_type": "code",
   "execution_count": 3,
   "metadata": {},
   "outputs": [
    {
     "name": "stdout",
     "output_type": "stream",
     "text": [
      "Name is:Debu\n",
      "Roll no is:2001\n",
      "Address is:Baneshwor\n"
     ]
    }
   ],
   "source": [
    "class Student:\n",
    "    def put(self):\n",
    "        self.name=input(\"enter a name \")\n",
    "        self.roll=int(input(\"enter a roll no\"))\n",
    "        self.address=input(\"enter a Address\")\n",
    "\n",
    "    def display(self):\n",
    "        print(f\"Name is:{self.name}\")\n",
    "        print(f\"Roll no is:{self.roll}\")\n",
    "        print(f\"Address is:{self.address}\")\n",
    "\n",
    "std1=Student()\n",
    "\n",
    "std1.put()\n",
    "std1.display()\n",
    "\n",
    "\n",
    "\n",
    "\n"
   ]
  },
  {
   "cell_type": "markdown",
   "metadata": {},
   "source": [
    "## **2. Constructors and Destructors**\n",
    "- **Constructor (`__init__` method)**: A special method called when an object is created to initialize attributes.\n",
    "- **Destructor (`__del__` method)**: A special method called when an object is deleted or goes out of scope (used to release resources).\n",
    "\n"
   ]
  },
  {
   "cell_type": "code",
   "execution_count": 4,
   "metadata": {},
   "outputs": [
    {
     "name": "stdout",
     "output_type": "stream",
     "text": [
      "Rocky\n",
      "Golden Retriever\n"
     ]
    }
   ],
   "source": [
    "class Dog:\n",
    "    def __init__(self, name, breed):\n",
    "        self.name = name\n",
    "        self.breed = breed\n",
    "\n",
    "my_dog = Dog(\"Rocky\", \"Golden Retriever\")\n",
    "print(my_dog.name)  # Output: Buddy\n",
    "print(my_dog.breed)"
   ]
  },
  {
   "cell_type": "code",
   "execution_count": 5,
   "metadata": {},
   "outputs": [
    {
     "name": "stdout",
     "output_type": "stream",
     "text": [
      "Constructor called!\n",
      "Destructor called!\n"
     ]
    }
   ],
   "source": [
    "class Example:\n",
    "    def __init__(self, value):\n",
    "        self.value = value\n",
    "        print(\"Constructor called!\")\n",
    "\n",
    "    def __del__(self):\n",
    "        print(\"Destructor called!\")\n",
    "\n",
    "obj = Example(42) \n",
    "del obj"
   ]
  },
  {
   "cell_type": "code",
   "execution_count": 6,
   "metadata": {},
   "outputs": [
    {
     "name": "stdout",
     "output_type": "stream",
     "text": [
      "Name is: Debu\n",
      "Roll no is: 2001\n",
      "Address is: Baneshwor\n"
     ]
    }
   ],
   "source": [
    "class Student:\n",
    "    def __init__(self):\n",
    "    \n",
    "        self.name = input(\"Enter a name: \")\n",
    "        self.roll = int(input(\"Enter a roll number: \"))\n",
    "        self.address = input(\"Enter an address: \")\n",
    "\n",
    "    def display(self):\n",
    "        print(f\"Name is: {self.name}\")\n",
    "        print(f\"Roll no is: {self.roll}\")\n",
    "        print(f\"Address is: {self.address}\")\n",
    "\n",
    "# Create a Student instance and display its details\n",
    "std1 = Student()\n",
    "\n",
    "std1.display()\n"
   ]
  },
  {
   "cell_type": "markdown",
   "metadata": {},
   "source": [
    "## **3. The `self` Keyword**\n",
    "- Represents the instance of the class.\n",
    "- Used to access attributes and methods within the class.\n",
    "\n",
    "\n"
   ]
  },
  {
   "cell_type": "code",
   "execution_count": 7,
   "metadata": {},
   "outputs": [
    {
     "name": "stdout",
     "output_type": "stream",
     "text": [
      "Hello from <__main__.sample object at 0x00000242F7307CB0>\n"
     ]
    }
   ],
   "source": [
    "class sample:\n",
    "    def greet(self):\n",
    "        print(f\"Hello from {self}\")\n",
    "obj=sample()\n",
    "obj.greet()"
   ]
  },
  {
   "cell_type": "markdown",
   "metadata": {},
   "source": [
    "## **4. OOP Principles**\n",
    "\n",
    "Inheritance(over riding imp)\n",
    "- Mechanism to create a new class from an existing class (reuse and extend functionality).\n",
    "\n"
   ]
  },
  {
   "cell_type": "code",
   "execution_count": 8,
   "metadata": {},
   "outputs": [
    {
     "name": "stdout",
     "output_type": "stream",
     "text": [
      "Dog barks\n"
     ]
    }
   ],
   "source": [
    "class Animal:\n",
    "    def sounds(self):\n",
    "        print(\"Animal speaks\")\n",
    "\n",
    "class Dog(Animal):\n",
    "    def sounds(self):\n",
    "        print(\"Dog barks\")\n",
    "\n",
    "dog = Dog()\n",
    "dog.sounds()  \n",
    "# dog.speaks()\n"
   ]
  },
  {
   "cell_type": "markdown",
   "metadata": {},
   "source": [
    " ### Polymorphism\n",
    "- Allows the same interface or method to behave differently based on the object."
   ]
  },
  {
   "cell_type": "code",
   "execution_count": 9,
   "metadata": {},
   "outputs": [
    {
     "name": "stdout",
     "output_type": "stream",
     "text": [
      "Bird chirps\n",
      "Cat meows\n"
     ]
    }
   ],
   "source": [
    "class Bird:\n",
    "    def sound(self):\n",
    "        print(\"Bird chirps\")\n",
    "\n",
    "class Cat:\n",
    "    def sound(self):\n",
    "        print(\"Cat meows\")\n",
    "\n",
    "for animal in [Bird(), Cat()]:\n",
    "    animal.sound()"
   ]
  },
  {
   "cell_type": "markdown",
   "metadata": {},
   "source": [
    "Write a class Student with attributes name and roll_number. Add a method display() to print the details of the student."
   ]
  },
  {
   "cell_type": "code",
   "execution_count": 10,
   "metadata": {},
   "outputs": [
    {
     "name": "stdout",
     "output_type": "stream",
     "text": [
      "Name: Debu, Roll Number: 2001\n"
     ]
    }
   ],
   "source": [
    "class Student:\n",
    "    def __init__(self, name, roll_number):\n",
    "        self.name = name\n",
    "        self.roll_number = roll_number\n",
    "\n",
    "    def display(self):\n",
    "        print(f\"Name: {self.name}, Roll Number: {self.roll_number}\")\n",
    "\n",
    "# Create an object\n",
    "student = Student(\"Debu\", 2001)\n",
    "student.display()"
   ]
  },
  {
   "cell_type": "markdown",
   "metadata": {},
   "source": [
    "Create a class Employee with a private attribute _salary. Provide methods to set and get the salary value"
   ]
  },
  {
   "cell_type": "code",
   "execution_count": 11,
   "metadata": {},
   "outputs": [
    {
     "name": "stdout",
     "output_type": "stream",
     "text": [
      "Debu's salary is 15000.\n"
     ]
    }
   ],
   "source": [
    "class Employee:\n",
    "    def __init__(self, name):\n",
    "        self.name = name\n",
    "        self._salary = 0\n",
    "\n",
    "    def set_salary(self, salary):\n",
    "        if salary > 0:\n",
    "            self._salary = salary\n",
    "        else:\n",
    "            print(\"Salary must be positive!\")\n",
    "\n",
    "    def get_salary(self):\n",
    "        return self._salary\n",
    "\n",
    "# Create an object\n",
    "employee = Employee(\"Debu\")\n",
    "employee.set_salary(15000)\n",
    "print(f\"{employee.name}'s salary is {employee.get_salary()}.\")\n",
    "\n",
    "\n"
   ]
  },
  {
   "cell_type": "markdown",
   "metadata": {},
   "source": [
    "Write a class Calculator with methods add(), subtract(), multiply(), and divide() to perform basic arithmetic operations."
   ]
  },
  {
   "cell_type": "code",
   "execution_count": 12,
   "metadata": {},
   "outputs": [
    {
     "name": "stdout",
     "output_type": "stream",
     "text": [
      "Addition: 15\n",
      "Subtraction: 5\n",
      "Multiplication: 50\n",
      "Division: 2.0\n"
     ]
    }
   ],
   "source": [
    "class Calculator:\n",
    "    def add(self, a, b):\n",
    "       \n",
    "        return a+ b\n",
    "\n",
    "    def subtract(self, a, b):\n",
    "        return a - b\n",
    "\n",
    "    def multiply(self, a, b):\n",
    "        return a * b\n",
    "\n",
    "    def divide(self, a, b):\n",
    "        if b != 0:\n",
    "            return a / b\n",
    "        else:\n",
    "            return \"Cannot divide by zero!\"\n",
    "\n",
    "# Create an object\n",
    "calc = Calculator()\n",
    "\n",
    "print(\"Addition:\", calc.add(10, 5))\n",
    "print(\"Subtraction:\", calc.subtract(10, 5))\n",
    "print(\"Multiplication:\", calc.multiply(10, 5))\n",
    "print(\"Division:\", calc.divide(10, 5))\n"
   ]
  },
  {
   "cell_type": "code",
   "execution_count": 13,
   "metadata": {},
   "outputs": [
    {
     "name": "stdout",
     "output_type": "stream",
     "text": [
      "Book: Unknown Title, Author: Unknown Author\n",
      "Book: Python Programming, Author: Debu\n"
     ]
    }
   ],
   "source": [
    "# Create a class Book with attributes title and author. Set default values for both and allow users to override them during object creation.\n",
    "class Book:\n",
    "    def __init__(self, title=\"Unknown Title\", author=\"Unknown Author\"):\n",
    "        self.title = title\n",
    "        self.author = author\n",
    "\n",
    "    def display(self):\n",
    "        print(f\"Book: {self.title}, Author: {self.author}\")\n",
    "\n",
    "# Create objects\n",
    "default_book = Book()\n",
    "custom_book = Book(\"Python Programming\", \"Debu\")\n",
    "\n",
    "default_book.display()\n",
    "custom_book.display()\n"
   ]
  },
  {
   "cell_type": "code",
   "execution_count": 14,
   "metadata": {},
   "outputs": [
    {
     "name": "stdout",
     "output_type": "stream",
     "text": [
      "Car Details:\n",
      "Brand: Tesla, Color: Red\n",
      "Number of doors: 4\n",
      "\n",
      "Bike Details:\n",
      "Brand: Yamaha, Color: Black\n",
      "Type of bike: Sports\n"
     ]
    }
   ],
   "source": [
    "# Create a Python program demonstrating hierarchical inheritance with a parent class Vehicle and two child classes Car and Bike. Include unique attributes and methods for each child class to display their details.\n",
    "# Parent class\n",
    "class Vehicle:\n",
    "    def __init__(self, brand, color):\n",
    "        self.brand = brand\n",
    "        self.color = color\n",
    "\n",
    "    def display_details(self):\n",
    "        print(f\"Brand: {self.brand}, Color: {self.color}\")\n",
    "\n",
    "# Child class 1\n",
    "class Car(Vehicle):\n",
    "    def __init__(self, brand, color, doors):\n",
    "        super().__init__(brand, color)  # Call parent constructor\n",
    "        self.doors = doors\n",
    "\n",
    "    def display_car_details(self):\n",
    "        self.display_details()\n",
    "        print(f\"Number of doors: {self.doors}\")\n",
    "\n",
    "# Child class 2\n",
    "class Bike(Vehicle):\n",
    "    def __init__(self, brand, color, type_of_bike):\n",
    "        super().__init__(brand, color)  # Call parent constructor\n",
    "        self.type_of_bike = type_of_bike\n",
    "\n",
    "    def display_bike_details(self):\n",
    "        self.display_details()\n",
    "        print(f\"Type of bike: {self.type_of_bike}\")\n",
    "\n",
    "# Create objects of Car and Bike\n",
    "car = Car(\"Tesla\", \"Red\", 4)\n",
    "bike = Bike(\"Yamaha\", \"Black\", \"Sports\")\n",
    "\n",
    "print(\"Car Details:\")\n",
    "car.display_car_details()\n",
    "\n",
    "print(\"\\nBike Details:\")\n",
    "bike.display_bike_details()\n"
   ]
  },
  {
   "cell_type": "code",
   "execution_count": 15,
   "metadata": {},
   "outputs": [
    {
     "name": "stdout",
     "output_type": "stream",
     "text": [
      "5000\n",
      "6000\n",
      "Salary must be positive!\n"
     ]
    }
   ],
   "source": [
    "class Employee:\n",
    "    def __init__(self, name, salary):\n",
    "        self.name = name\n",
    "        self.__salary = salary  # Private variable (indicated by double underscore)\n",
    "\n",
    "    # Getter method for salary\n",
    "    def get_salary(self):\n",
    "        return self.__salary\n",
    "\n",
    "    # Setter method for salary\n",
    "    def set_salary(self, salary):\n",
    "        if salary > 0:\n",
    "            self.__salary = salary\n",
    "        else:\n",
    "            print(\"Salary must be positive!\")\n",
    "\n",
    "# Example Usage\n",
    "emp = Employee(\"Alice\", 5000)\n",
    "\n",
    "# Accessing private variable through getter\n",
    "print(emp.get_salary())  # Output: 5000\n",
    "\n",
    "# Setting new salary through setter\n",
    "emp.set_salary(6000)\n",
    "print(emp.get_salary())  # Output: 6000\n",
    "\n",
    "# Trying to set a negative salary (will be rejected)\n",
    "emp.set_salary(-1000)  # Output: Salary must be positive!\n"
   ]
  },
  {
   "cell_type": "markdown",
   "metadata": {},
   "source": [
    "## Create a python class student with attributes name,grades(list) and a method average_grade()that calculates and returns the average of the student's grades."
   ]
  },
  {
   "cell_type": "code",
   "execution_count": 3,
   "metadata": {},
   "outputs": [
    {
     "name": "stdout",
     "output_type": "stream",
     "text": [
      "Debu's average grade is:[24.26, 27]\n"
     ]
    }
   ],
   "source": [
    "class Student:\n",
    "    def __init__(self,name,grades):\n",
    "        self.name=name\n",
    "        self.grades=grades\n",
    "\n",
    "    def average_grades(self):\n",
    "        return sum(self.grades)/len(self.grades)\n",
    "    \n",
    "\n",
    "std1=Student(\"Debu\",[24.26,27])\n",
    "print(f\"{std1.name}'s average grade is:{std1.grades}\")\n",
    "    \n",
    "\n",
    "\n",
    "    \n",
    "        "
   ]
  },
  {
   "cell_type": "code",
   "execution_count": 4,
   "metadata": {},
   "outputs": [
    {
     "ename": "NameError",
     "evalue": "name 'score' is not defined",
     "output_type": "error",
     "traceback": [
      "\u001b[1;31m---------------------------------------------------------------------------\u001b[0m",
      "\u001b[1;31mNameError\u001b[0m                                 Traceback (most recent call last)",
      "Cell \u001b[1;32mIn[4], line 1\u001b[0m\n\u001b[1;32m----> 1\u001b[0m \u001b[38;5;28;43;01mclass\u001b[39;49;00m\u001b[43m \u001b[49m\u001b[38;5;21;43;01mStudent\u001b[39;49;00m\u001b[43m:\u001b[49m\n\u001b[0;32m      2\u001b[0m \u001b[43m    \u001b[49m\u001b[38;5;28;43;01mdef\u001b[39;49;00m\u001b[43m \u001b[49m\u001b[38;5;21;43m__init__\u001b[39;49m\u001b[43m(\u001b[49m\u001b[38;5;28;43mself\u001b[39;49m\u001b[43m,\u001b[49m\u001b[43mname\u001b[49m\u001b[43m,\u001b[49m\u001b[43mgrades\u001b[49m\u001b[43m)\u001b[49m\u001b[43m:\u001b[49m\n\u001b[0;32m      3\u001b[0m \u001b[43m        \u001b[49m\u001b[38;5;28;43mself\u001b[39;49m\u001b[38;5;241;43m.\u001b[39;49m\u001b[43mname\u001b[49m\u001b[38;5;241;43m=\u001b[39;49m\u001b[43mname\u001b[49m\n",
      "Cell \u001b[1;32mIn[4], line 9\u001b[0m, in \u001b[0;36mStudent\u001b[1;34m()\u001b[0m\n\u001b[0;32m      6\u001b[0m \u001b[38;5;28;01mdef\u001b[39;00m \u001b[38;5;21maverage_grades\u001b[39m(\u001b[38;5;28mself\u001b[39m):\n\u001b[0;32m      7\u001b[0m     \u001b[38;5;66;03m#Input score from the user\u001b[39;00m\n\u001b[0;32m      8\u001b[0m    score \u001b[38;5;241m=\u001b[39m \u001b[38;5;28mfloat\u001b[39m(\u001b[38;5;28minput\u001b[39m(\u001b[38;5;124m\"\u001b[39m\u001b[38;5;124mEnter your score:60\u001b[39m\u001b[38;5;124m\"\u001b[39m))\n\u001b[1;32m----> 9\u001b[0m \u001b[38;5;28;01mif\u001b[39;00m \u001b[43mscore\u001b[49m \u001b[38;5;241m>\u001b[39m\u001b[38;5;241m=\u001b[39m\u001b[38;5;241m75\u001b[39m:\n\u001b[0;32m     10\u001b[0m    \u001b[38;5;28mprint\u001b[39m(\u001b[38;5;124m\"\u001b[39m\u001b[38;5;124mGrade:D+\u001b[39m\u001b[38;5;124m\"\u001b[39m)\n\u001b[0;32m     11\u001b[0m \u001b[38;5;28;01melif\u001b[39;00m score \u001b[38;5;241m>\u001b[39m\u001b[38;5;241m=\u001b[39m\u001b[38;5;241m65\u001b[39m:\n",
      "\u001b[1;31mNameError\u001b[0m: name 'score' is not defined"
     ]
    }
   ],
   "source": [
    "class Student:\n",
    "    def __init__(self,name,grades):\n",
    "        self.name=name\n",
    "        self.grades=grades\n",
    "\n",
    "    def average_grades(self):\n",
    "        #Input score from the user\n",
    "       score = float(input(\"Enter your score:60\"))\n",
    "    if self.grades >=75:\n",
    "       print(\"Grade:D+\")\n",
    "    elif score >=65:\n",
    "      print(\"Grade:D\")\n",
    "    elif score >=55:\n",
    "      print(\"Grade:c+\")\n",
    "    elif score >=45:\n",
    "      print(\"Grade;c\")\n",
    "    else:\n",
    "      print(\"Grade:f\")\n",
    "\n",
    "      def average_grades(self):\n",
    "         return sum(self.grades)/len(self.grades)\n",
    "      std1=Student()\n",
    "print(f\"{std1.name}'s average grade is:{std1.grades}\")\n",
    "    \n"
   ]
  },
  {
   "cell_type": "code",
   "execution_count": null,
   "metadata": {},
   "outputs": [],
   "source": []
  }
 ],
 "metadata": {
  "kernelspec": {
   "display_name": "Python 3",
   "language": "python",
   "name": "python3"
  },
  "language_info": {
   "codemirror_mode": {
    "name": "ipython",
    "version": 3
   },
   "file_extension": ".py",
   "mimetype": "text/x-python",
   "name": "python",
   "nbconvert_exporter": "python",
   "pygments_lexer": "ipython3",
   "version": "3.13.1"
  }
 },
 "nbformat": 4,
 "nbformat_minor": 2
}
