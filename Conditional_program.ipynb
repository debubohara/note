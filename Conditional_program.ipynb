{
 "cells": [
  {
   "cell_type": "markdown",
   "metadata": {},
   "source": [
    "Write a program in python to check whether the given number is even or odd"
   ]
  },
  {
   "cell_type": "code",
   "execution_count": 1,
   "metadata": {},
   "outputs": [
    {
     "name": "stdout",
     "output_type": "stream",
     "text": [
      "25 is odd number.\n"
     ]
    }
   ],
   "source": [
    "#input number from the user:\n",
    "num =int(input(\"Enter a number:25\"))\n",
    "if num % 2 ==0:\n",
    "    print(f\"{num} is even number.\")\n",
    "else:\n",
    "    print(f\"{num} is odd number.\")"
   ]
  },
  {
   "cell_type": "markdown",
   "metadata": {},
   "source": [
    "#Write a python program that checks if number is positive"
   ]
  },
  {
   "cell_type": "code",
   "execution_count": 1,
   "metadata": {},
   "outputs": [
    {
     "name": "stdout",
     "output_type": "stream",
     "text": [
      "The number is negative.\n"
     ]
    }
   ],
   "source": [
    "#Input number from user\n",
    "num=float(input(\"Enter a number:-3020\"))\n",
    "if num > 0:\n",
    "    print(\"The number is positive.\")\n",
    "elif num <0:\n",
    "    print(\"The number is negative.\")\n",
    "else:\n",
    "    print(\"The number is zero\")"
   ]
  },
  {
   "cell_type": "markdown",
   "metadata": {},
   "source": [
    "GRADE EVALUATION"
   ]
  },
  {
   "cell_type": "code",
   "execution_count": 8,
   "metadata": {},
   "outputs": [
    {
     "name": "stdout",
     "output_type": "stream",
     "text": [
      "Grade:c+\n"
     ]
    }
   ],
   "source": [
    "#Input score from the user\n",
    "score = float(input(\"Enter your score:60\"))\n",
    "if score >=75:\n",
    "    print(\"Grade:D+\")\n",
    "elif score >=65:\n",
    "    print(\"Grade:D\")\n",
    "elif score >=55:\n",
    "    print(\"Grade:c+\")\n",
    "elif score >=45:\n",
    "    print(\"Grade;c\")\n",
    "else:\n",
    "    print(\"Grade:f\")"
   ]
  },
  {
   "cell_type": "markdown",
   "metadata": {},
   "source": [
    "Simple Divisibility Check"
   ]
  },
  {
   "cell_type": "code",
   "execution_count": 7,
   "metadata": {},
   "outputs": [
    {
     "name": "stdout",
     "output_type": "stream",
     "text": [
      "35 is divisible by 5.\n"
     ]
    }
   ],
   "source": [
    "#Input number from the user\n",
    "num =int(input(\"Enter a number:35\"))\n",
    "if num % 5 ==0:\n",
    "    print(f\"{num} is divisible by 5.\")\n",
    "else:\n",
    "    print(f\"{num} is not divisible by 5:\")\n",
    "    "
   ]
  },
  {
   "cell_type": "markdown",
   "metadata": {},
   "source": [
    "Temperature Converter (Celsius to Fahrenheit)"
   ]
  },
  {
   "cell_type": "code",
   "execution_count": null,
   "metadata": {},
   "outputs": [],
   "source": [
    "#Input the temperature from the user\n",
    "temp_celsius = float(input(\"Enter temperature in a celsius:95\"))\n",
    "temp_fahrenheit = (temp_celsius *9/5) +32\n",
    "print(f\"{temp_celsius}   \")"
   ]
  },
  {
   "cell_type": "markdown",
   "metadata": {},
   "source": [
    "Age Category"
   ]
  },
  {
   "cell_type": "code",
   "execution_count": 6,
   "metadata": {},
   "outputs": [
    {
     "name": "stdout",
     "output_type": "stream",
     "text": [
      "you are an adult.\n"
     ]
    },
    {
     "data": {
      "text/plain": [
       "2"
      ]
     },
     "execution_count": 6,
     "metadata": {},
     "output_type": "execute_result"
    }
   ],
   "source": [
    "#Input age from the user\n",
    "age = int(input(\"Enter your age:21\"))\n",
    "if age<13:\n",
    "    print(\"You are a child.\")\n",
    "elif 13<= age<=19:\n",
    "    print(\"you are a teenager.\")\n",
    "elif 20<=age<=39:\n",
    "    print(\"you are an adult.\")\n",
    "else:\n",
    "    print(\"you are a senior.\")\n",
    "2"
   ]
  },
  {
   "cell_type": "markdown",
   "metadata": {},
   "source": [
    "Simple Calculator"
   ]
  },
  {
   "cell_type": "code",
   "execution_count": 5,
   "metadata": {},
   "outputs": [
    {
     "name": "stdout",
     "output_type": "stream",
     "text": [
      "welcome to the simple calculator!\n",
      "Invalid operation\n"
     ]
    }
   ],
   "source": [
    "#Input from the user\n",
    "print(\"welcome to the simple calculator!\")\n",
    "num1 = float(input(\"Enter the first number:15\"))\n",
    "num2 = float(input(\"Enter the second number:20\"))\n",
    "operation = input(\"Enter an operation (+,-,*,/):25\")\n",
    "if operation == '+':\n",
    "    result = num1+num2\n",
    "    print(f\"the result of {num1}+{num2} is {result}\")\n",
    "elif operation == '-':\n",
    "    result = num1-num2\n",
    "    print(f\"the result of {num1}-{num2} is {result}\")\n",
    "elif operation == '*':\n",
    "    result = num1*num2\n",
    "    print(f\"the result of {num1}*{num2} is {result}\")\n",
    "elif operation == '/':\n",
    "    if num2 != 0:\n",
    "        result = num1/num2\n",
    "        print(f\"the result of {num1}/ {num2} is {result}\")\n",
    "    else:\n",
    "       print(\"Error: Division by Zero is not allowed.\")\n",
    "else:\n",
    "   print(\"Invalid operation\")\n",
    "\n",
    "\n",
    "\n"
   ]
  },
  {
   "cell_type": "markdown",
   "metadata": {},
   "source": [
    "Write a program to print greater number among 2 numbers"
   ]
  },
  {
   "cell_type": "code",
   "execution_count": 4,
   "metadata": {},
   "outputs": [
    {
     "name": "stdout",
     "output_type": "stream",
     "text": [
      "the greater number is 20.0.\n"
     ]
    }
   ],
   "source": [
    "#Input from the user\n",
    "num1 = float(input(\"enter the first number:10\"))\n",
    "num2 = float(input(\"Enter the second number:20\"))\n",
    "if num1>num2:\n",
    "    print(f\"the greater number is {num1}.\")\n",
    "elif num2>num1:\n",
    "    print(f\"the greater number is {num2}.\")\n",
    "else:\n",
    "    print(\"Both numbers are equal.\")\n",
    "    \n"
   ]
  },
  {
   "cell_type": "markdown",
   "metadata": {},
   "source": [
    "Write a program to print greater number among 3 numbers."
   ]
  },
  {
   "cell_type": "code",
   "execution_count": 3,
   "metadata": {},
   "outputs": [
    {
     "name": "stdout",
     "output_type": "stream",
     "text": [
      "The greater number is 40.0.\n"
     ]
    }
   ],
   "source": [
    "#Input from the user.\n",
    "num1 = float(input(\"Enter the first number:25\"))\n",
    "num2 = float(input(\"Enter the second number;30\"))\n",
    "num3 =float(input(\"Enter the thoird number;40\"))\n",
    "if num1>num2 and num1>num3:\n",
    "    print(f\"The greater number is {num1}.\")\n",
    "elif num2>1 and num2>num3:\n",
    "    print(f\"The greater number is {num2}.\")\n",
    "elif num3>num1 and num3>num2:\n",
    "    print(f\"The greater number is {num3}.\")\n",
    "else:\n",
    "   print(\"Two or more numbers are equal and the greatest.\")"
   ]
  }
 ],
 "metadata": {
  "kernelspec": {
   "display_name": "Python 3",
   "language": "python",
   "name": "python3"
  },
  "language_info": {
   "codemirror_mode": {
    "name": "ipython",
    "version": 3
   },
   "file_extension": ".py",
   "mimetype": "text/x-python",
   "name": "python",
   "nbconvert_exporter": "python",
   "pygments_lexer": "ipython3",
   "version": "3.13.1"
  }
 },
 "nbformat": 4,
 "nbformat_minor": 2
}
